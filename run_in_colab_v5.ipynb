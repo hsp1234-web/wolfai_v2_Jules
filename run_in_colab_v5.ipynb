{
 "cells": [
  {
   "cell_type": "markdown",
   "metadata": {},
   "source": [
    "<h1>🚀 蒼狼 AI v2.2 - 一鍵啟動器</h1>\n",
    "\n",
    "歡迎使用！點擊下方儲存格左側的 ▶️ **執行按鈕**來啟動您的 AI 分析平台。\n",
    "\n",
    "**啟動流程：**\n",
    "1. **環境設定**：自動下載專案程式碼並安裝所有必要的 Python 和 Node.js 套件。\n",
    "2. **啟動服務**：同時啟動後端 FastAPI 和前端 Next.js 服務。\n",
    "3. **建立通道**：使用 `ngrok` 建立一個安全的公開網址，以便您存取服務。\n",
    "4. **嵌入介面**：**您的應用程式使用者介面將會直接顯示在此儲存格的下方**，無需離開 Colab。\n",
    "\n",
    "---\n",
    "**提示**：首次執行可能需要幾分鐘時間來下載和安裝套件，請耐心等候。"
   ]
  },
  {
   "cell_type": "code",
   "execution_count": null,
   "metadata": {
    "colab": {
     "base_uri": "https://localhost:8080/"
    },
    "outputId": "a1b2c3d4-e5f6-7890-a1b2-c3d4e5f67890"
   },
   "outputs": [],
   "source": [
    "#@title ▶️ 點此一鍵啟動 Wolf AI 平台\n",
    "import os\n",
    "import subprocess\n",
    "import threading\n",
    "from pyngrok import ngrok\n",
    "from IPython.display import display, IFrame, HTML\n",
    "import time\n",
    "\n",
    "# --- 設定 --- \n",
    "REPO_URL = \"https://github.com/hsp1234-web/wolfai_v2_jules.git\"\n",
    "REPO_PATH = \"/content/wolfai_v2_jules\"\n",
    "NGROK_AUTH_TOKEN = \"\" # 建議填寫您的 ngrok Authtoken 以獲得更穩定連線\n",
    "\n",
    "def stream_output(process, log_file):\n",
    "    \"\"\"將子進程的輸出即時寫入日誌檔案\"\"\"\n",
    "    with open(log_file, 'w') as f:\n",
    "        for line in iter(process.stdout.readline, ''):\n",
    "            f.write(line)\n",
    "            f.flush()\n",
    "\n",
    "print(\"⏳ [1/5] 開始準備環境...\")\n",
    "\n",
    "if os.path.exists(REPO_PATH):\n",
    "    print(f\"   -> 倉庫目錄 {REPO_PATH} 已存在，正在更新...\")\n",
    "    subprocess.run(f'cd {REPO_PATH} && git pull', shell=True, check=True)\n",
    "else:\n",
    "    print(f\"   -> 正在從 {REPO_URL} 下載專案...\")\n",
    "    subprocess.run(f'git clone {REPO_URL} {REPO_PATH}', shell=True, check=True)\n",
    "\n",
    "print(\"✅ [2/5] 專案程式碼已備妥！\")\n",
    "print(\"⏳ [3/5] 正在安裝後端與前端依賴套件 (此步驟可能需要數分鐘)...\")\n",
    "\n",
    "# 安裝所有依賴\n",
    "subprocess.run(f'pip install -q -r {REPO_PATH}/backend/requirements.txt', shell=True, check=True)\n",
    "subprocess.run(f'npm install --prefix {REPO_PATH}/frontend', shell=True, check=True, stdout=subprocess.DEVNULL, stderr=subprocess.DEVNULL) # 隱藏 npm 的大量輸出\n",
    "\n",
    "print(\"✅ [4/5] 所有依賴已安裝！\")\n",
    "print(\"⏳ [5/5] 正在啟動後端與前端服務...\")\n",
    "\n",
    "# 啟動後端\n",
    "backend_process = subprocess.Popen(['uvicorn', 'main:app', '--host', '0.0.0.0', '--port', '8000'], cwd=f'{REPO_PATH}/backend', stdout=subprocess.PIPE, stderr=subprocess.STDOUT, text=True)\n",
    "threading.Thread(target=stream_output, args=(backend_process, 'backend.log')).start()\n",
    "print(\"   -> 後端 FastAPI 服務已在背景啟動。\")\n",
    "\n",
    "# 啟動前端\n",
    "frontend_process = subprocess.Popen(['npm', 'run', 'dev'], cwd=f'{REPO_PATH}/frontend', stdout=subprocess.PIPE, stderr=subprocess.STDOUT, text=True)\n",
    "threading.Thread(target=stream_output, args=(frontend_process, 'frontend.log')).start()\n",
    "print(\"   -> 前端 Next.js 服務已在背景啟動。\")\n",
    "\n",
    "# 設定 ngrok\n",
    "if NGROK_AUTH_TOKEN:\n",
    "    ngrok.set_auth_token(NGROK_AUTH_TOKEN)\n",
    "\n",
    "print(\"   -> 正在等待服務穩定並建立 ngrok 通道...\")\n",
    "time.sleep(15) # 等待服務完全啟動\n",
    "\n",
    "# 建立 ngrok 通道並顯示\n",
    "try:\n",
    "    public_url = ngrok.connect(3000).public_url\n",
    "    print(f\"\n🎉🎉🎉 您的 AI 平台已上線！ 🎉🎉🎉\")\n",
    "    print(f\"🌐 公開網址: {public_url}\")\n",
    "    display(HTML(\"<h2>↓ 您可以直接在下方操作 WolfAI 介面 ↓</h2>\"))\n",
    "    display(IFrame(public_url, width='100%', height=800))\n",
    "except Exception as e:\n",
    "    print(f\"\n🛑 錯誤：無法建立 ngrok 通道。請檢查您的 Authtoken 或 Colab 網路狀態。錯誤訊息: {e}\")"
   ]
  }
 ],
 "metadata": {
  "colab": {
   "provenance": []
  },
  "kernelspec": {
   "display_name": "Python 3",
   "name": "python3"
  },
  "language_info": {
   "name": "python"
  }
 },
 "nbformat": 4,
 "nbformat_minor": 5
}
