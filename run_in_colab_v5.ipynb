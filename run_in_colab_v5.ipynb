{
  "cells": [
    {
      "cell_type": "code",
      "source": [
        "print(f\"\"\"This is an unclosed f-string an example.",
        "More content here.",
        "\"\"\""
      ]
    },
    {
      "cell_type": "code",
      "source": [
        "print(\"Hello\")"
      ]
    }
  ]
}